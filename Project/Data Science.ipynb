{
 "cells": [
  {
   "cell_type": "code",
   "execution_count": 1,
   "id": "b543104a",
   "metadata": {},
   "outputs": [
    {
     "name": "stdout",
     "output_type": "stream",
     "text": [
      "Hello World\n"
     ]
    }
   ],
   "source": [
    "print(\"Hello World\")"
   ]
  },
  {
   "cell_type": "code",
   "execution_count": 2,
   "id": "21f768ec",
   "metadata": {},
   "outputs": [
    {
     "name": "stdout",
     "output_type": "stream",
     "text": [
      "Print Hello World\n"
     ]
    }
   ],
   "source": [
    "print(\"Print Hello World\")"
   ]
  },
  {
   "cell_type": "code",
   "execution_count": 3,
   "id": "cd4a86d6",
   "metadata": {},
   "outputs": [
    {
     "name": "stdout",
     "output_type": "stream",
     "text": [
      "My Name is Chalu Pandey\n"
     ]
    }
   ],
   "source": [
    "print(\"My Name is Chalu Pandey\")"
   ]
  },
  {
   "cell_type": "code",
   "execution_count": 5,
   "id": "4de208e9",
   "metadata": {},
   "outputs": [
    {
     "name": "stdout",
     "output_type": "stream",
     "text": [
      "2*3= 6\n"
     ]
    }
   ],
   "source": [
    "x=2\n",
    "y=3\n",
    "print(\"2*3=\", 2*3)\n"
   ]
  },
  {
   "cell_type": "code",
   "execution_count": null,
   "id": "4e1a2888",
   "metadata": {},
   "outputs": [],
   "source": []
  }
 ],
 "metadata": {
  "kernelspec": {
   "display_name": "Python 3 (ipykernel)",
   "language": "python",
   "name": "python3"
  },
  "language_info": {
   "codemirror_mode": {
    "name": "ipython",
    "version": 3
   },
   "file_extension": ".py",
   "mimetype": "text/x-python",
   "name": "python",
   "nbconvert_exporter": "python",
   "pygments_lexer": "ipython3",
   "version": "3.9.13"
  }
 },
 "nbformat": 4,
 "nbformat_minor": 5
}
